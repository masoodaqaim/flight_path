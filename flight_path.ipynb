{
 "cells": [
  {
   "cell_type": "code",
   "execution_count": 3,
   "metadata": {},
   "outputs": [],
   "source": [
    "# import libraries\n",
    "import pandas as pd\n",
    "from gcmap import GCMapper, Gradient"
   ]
  },
  {
   "cell_type": "code",
   "execution_count": 8,
   "metadata": {},
   "outputs": [
    {
     "data": {
      "text/html": [
       "<div>\n",
       "<style scoped>\n",
       "    .dataframe tbody tr th:only-of-type {\n",
       "        vertical-align: middle;\n",
       "    }\n",
       "\n",
       "    .dataframe tbody tr th {\n",
       "        vertical-align: top;\n",
       "    }\n",
       "\n",
       "    .dataframe thead th {\n",
       "        text-align: right;\n",
       "    }\n",
       "</style>\n",
       "<table border=\"1\" class=\"dataframe\">\n",
       "  <thead>\n",
       "    <tr style=\"text-align: right;\">\n",
       "      <th></th>\n",
       "      <th>DepLat</th>\n",
       "      <th>DepLon</th>\n",
       "      <th>ArrLat</th>\n",
       "      <th>ArrLon</th>\n",
       "      <th>NbFlights</th>\n",
       "      <th>CO2Intensity</th>\n",
       "    </tr>\n",
       "  </thead>\n",
       "  <tbody>\n",
       "    <tr>\n",
       "      <th>0</th>\n",
       "      <td>33.504720</td>\n",
       "      <td>126.49310</td>\n",
       "      <td>37.55833</td>\n",
       "      <td>126.7906</td>\n",
       "      <td>88</td>\n",
       "      <td>103.555930</td>\n",
       "    </tr>\n",
       "    <tr>\n",
       "      <th>1</th>\n",
       "      <td>37.558330</td>\n",
       "      <td>126.79060</td>\n",
       "      <td>33.50472</td>\n",
       "      <td>126.4931</td>\n",
       "      <td>84</td>\n",
       "      <td>99.492429</td>\n",
       "    </tr>\n",
       "    <tr>\n",
       "      <th>2</th>\n",
       "      <td>-37.673330</td>\n",
       "      <td>144.84330</td>\n",
       "      <td>-33.94611</td>\n",
       "      <td>151.1772</td>\n",
       "      <td>83</td>\n",
       "      <td>79.571319</td>\n",
       "    </tr>\n",
       "    <tr>\n",
       "      <th>3</th>\n",
       "      <td>-33.946110</td>\n",
       "      <td>151.17720</td>\n",
       "      <td>-37.67333</td>\n",
       "      <td>144.8433</td>\n",
       "      <td>83</td>\n",
       "      <td>82.895090</td>\n",
       "    </tr>\n",
       "    <tr>\n",
       "      <th>4</th>\n",
       "      <td>4.191944</td>\n",
       "      <td>73.52917</td>\n",
       "      <td>3.47000</td>\n",
       "      <td>72.8300</td>\n",
       "      <td>77</td>\n",
       "      <td>23.100001</td>\n",
       "    </tr>\n",
       "  </tbody>\n",
       "</table>\n",
       "</div>"
      ],
      "text/plain": [
       "      DepLat     DepLon    ArrLat    ArrLon  NbFlights  CO2Intensity\n",
       "0  33.504720  126.49310  37.55833  126.7906         88    103.555930\n",
       "1  37.558330  126.79060  33.50472  126.4931         84     99.492429\n",
       "2 -37.673330  144.84330 -33.94611  151.1772         83     79.571319\n",
       "3 -33.946110  151.17720 -37.67333  144.8433         83     82.895090\n",
       "4   4.191944   73.52917   3.47000   72.8300         77     23.100001"
      ]
     },
     "execution_count": 8,
     "metadata": {},
     "output_type": "execute_result"
    }
   ],
   "source": [
    "# load file\n",
    "flight_df = pd.read_csv('data.csv', sep=';') # columns needed to be seperated by ';'\n",
    "flight_df.head()"
   ]
  },
  {
   "cell_type": "code",
   "execution_count": 20,
   "metadata": {},
   "outputs": [
    {
     "name": "stdout",
     "output_type": "stream",
     "text": [
      "<class 'pandas.core.frame.DataFrame'>\n",
      "RangeIndex: 24551 entries, 0 to 24550\n",
      "Data columns (total 6 columns):\n",
      "DepLat          24551 non-null float64\n",
      "DepLon          24551 non-null float64\n",
      "ArrLat          24551 non-null float64\n",
      "ArrLon          24551 non-null float64\n",
      "NbFlights       24551 non-null int64\n",
      "CO2Intensity    24551 non-null float64\n",
      "dtypes: float64(5), int64(1)\n",
      "memory usage: 1.1 MB\n"
     ]
    }
   ],
   "source": [
    "flight_df.info()"
   ]
  },
  {
   "cell_type": "code",
   "execution_count": 22,
   "metadata": {},
   "outputs": [],
   "source": [
    "# gradient to color the routes with number of flights\n",
    "grad = Gradient(((0,0,0,0), (0.5, 204, 0, 153), (1, 255, 204, 230)))\n",
    "\n",
    "# create gcmapper \n",
    "gcm = GCMapper(cols=grad)\n",
    "gcm.set_data(flight_df['DepLon'], flight_df['DepLat'], flight_df['ArrLon'], flight_df['ArrLat'], flight_df['NbFlights'])\n",
    "\n",
    "# run and save the map\n",
    "img = gcm.draw()\n",
    "img.save('first_map.png')"
   ]
  },
  {
   "cell_type": "code",
   "execution_count": null,
   "metadata": {},
   "outputs": [],
   "source": []
  }
 ],
 "metadata": {
  "kernelspec": {
   "display_name": "Python 3",
   "language": "python",
   "name": "python3"
  },
  "language_info": {
   "codemirror_mode": {
    "name": "ipython",
    "version": 3
   },
   "file_extension": ".py",
   "mimetype": "text/x-python",
   "name": "python",
   "nbconvert_exporter": "python",
   "pygments_lexer": "ipython3",
   "version": "3.6.8"
  }
 },
 "nbformat": 4,
 "nbformat_minor": 2
}
